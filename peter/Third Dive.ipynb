{
 "cells": [
  {
   "cell_type": "code",
   "execution_count": 2,
   "metadata": {
    "scrolled": true
   },
   "outputs": [
    {
     "name": "stderr",
     "output_type": "stream",
     "text": [
      "\n",
      "Attaching package: ‘dplyr’\n",
      "\n",
      "The following objects are masked from ‘package:stats’:\n",
      "\n",
      "    filter, lag\n",
      "\n",
      "The following objects are masked from ‘package:base’:\n",
      "\n",
      "    intersect, setdiff, setequal, union\n",
      "\n",
      "Loading required package: viridisLite\n"
     ]
    }
   ],
   "source": [
    "library(reshape2)\n",
    "library(magrittr)\n",
    "library(dplyr)\n",
    "library(ggplot2)\n",
    "library(viridis)\n",
    "\n",
    "DATA.DIR = '../data/'"
   ]
  },
  {
   "cell_type": "markdown",
   "metadata": {},
   "source": [
    "### About the Data\n",
    "In 2018 Boulder PD released a (cleaned and processed) dataset containing information on all *discretionary* stops made by Boulder police in 2018. Discretionary stops make up only a fraction of Boulder police activity, with the vast majority of police interactions being *non-discretionary*, eg. where an officer was dispatched based on a 911 call. Approximately 66,400 police interactions are non-discretionary (per an in person introduction to the data organized by the City of Boulder on May 6, 2019). \n",
    "\n",
    "The original data is broken into two files: `police_stop_data_main_2018.csv` and `police_stop_data_results_2018.csv`. The first dataset contains a row for every individual discretionary stop made by Boulder PD. Let's see what columns the data includes:"
   ]
  },
  {
   "cell_type": "code",
   "execution_count": 3,
   "metadata": {},
   "outputs": [
    {
     "name": "stdout",
     "output_type": "stream",
     "text": [
      " [1] \"stopdate\"      \"stoptime\"      \"streetnbr\"     \"streetdir\"    \n",
      " [5] \"street\"        \"Min\"           \"sex\"           \"race\"         \n",
      " [9] \"ethnic\"        \"Year.of.birth\" \"enfaction\"     \"rpmainid\"     \n"
     ]
    }
   ],
   "source": [
    "'police_stop_data_main_2018.csv' %>% paste0(DATA.DIR,.) %>% read.csv %>% names %>% print"
   ]
  },
  {
   "cell_type": "markdown",
   "metadata": {},
   "source": [
    "We see columns for stop date, time, and duration (in minutes). We see plots for the race, ethnicity, and sex of the stopped individual **as percieved by the reporting officer**. We also have columns `enfaction`, which indicates if the stopped individual was a resident of Boulder or not, and an `rpmainid`, which links each row to data in the second dataset.\n",
    "\n",
    "The structure of `police_stop_data_results_2018.csv` is slightly more complex. This file contains information on the stops listed in the `main` dataset, as well as any potential outcomes of each. Let's see what columns it has:"
   ]
  },
  {
   "cell_type": "code",
   "execution_count": 4,
   "metadata": {},
   "outputs": [
    {
     "name": "stdout",
     "output_type": "stream",
     "text": [
      "[1] \"appkey\"   \"appid\"    \"itemcode\" \"itemdesc\" \"addtime\" \n"
     ]
    }
   ],
   "source": [
    "'police_stop_data_results_2018.csv' %>% paste0(DATA.DIR,.) %>% read.csv %>% names %>% print"
   ]
  },
  {
   "cell_type": "markdown",
   "metadata": {},
   "source": [
    "The `appid` column is used to link rows in `results` to rows in `main` (through the `rpmainid` column in `main`). A big difference here is that each value of `rpmainid` appears in only one row in `main`, whereas a single `appid` might be listed in multiple rows in `results`. The `appkey` column contains one of seven different values, 'RPT1' through 'RPT7', which indicate what kind of information is contained in the row:\n",
    "\n",
    "| Appkey | Data              |\n",
    "|--------|-------------------|\n",
    "| RPT1   | Stop type         |\n",
    "| RPT2   | Stop reason       |\n",
    "| RPT3   | Search conducted  |\n",
    "| RPT4   |  Search authority |\n",
    "| RPT5   |  Contraband found |\n",
    "| RPT6   | Result of stop    |\n",
    "| RPT7   |  Charge issued    |\n",
    "\n",
    "\n",
    "In addition, each pair of `appid` and `appkey` might be listed in multiple rows, eg. if there's more than one result of the stop. This is not a very convenient data stucture. It would be far better if all of the information was present in a single dataset, and if each row corresponded to exactly one stop (ie. if the data was \"tidy\"). Fortunately my friend Sam has gone ahead and tidied the data. Let's see the results..."
   ]
  },
  {
   "cell_type": "code",
   "execution_count": 6,
   "metadata": {},
   "outputs": [
    {
     "name": "stdout",
     "output_type": "stream",
     "text": [
      " [1] \"stopdate\"                            \"stoptime\"                           \n",
      " [3] \"streetnbr\"                           \"streetdir\"                          \n",
      " [5] \"street\"                              \"min\"                                \n",
      " [7] \"sex\"                                 \"race\"                               \n",
      " [9] \"ethnic\"                              \"year.of.birth\"                      \n",
      "[11] \"enfaction\"                           \"rpmainid\"                           \n",
      "[13] \"raceethn\"                            \"rpt1.pedestrian\"                    \n",
      "[15] \"rpt1.vehicle\"                        \"rpt2.disturbance\"                   \n",
      "[17] \"rpt2.equipment.violation\"            \"rpt2.municipal.violation\"           \n",
      "[19] \"rpt2.noise.violation\"                \"rpt2.right.of.way.violation\"        \n",
      "[21] \"rpt2.speeding\"                       \"rpt2.state.violation\"               \n",
      "[23] \"rpt2.suspicious\"                     \"rpt2.traffic.parking.violation\"     \n",
      "[25] \"rpt2.traffic.reckless.careless\"      \"rpt2.traffic.reddi.observed.pc\"     \n",
      "[27] \"rpt2.traffic.right.of.way.violation\" \"rpt2.traffic.speeding\"              \n",
      "[29] \"rpt2.welfare.check\"                  \"rpt3..no.search\"                    \n",
      "[31] \"rpt3.driver\"                         \"rpt3.no.search\"                     \n",
      "[33] \"rpt3.passenger\"                      \"rpt3.person\"                        \n",
      "[35] \"rpt3.property\"                       \"rpt3.vehicle\"                       \n",
      "[37] \"rpt4.consent\"                        \"rpt4.impound\"                       \n",
      "[39] \"rpt4.incident.to.arrest\"             \"rpt4.plain.view\"                    \n",
      "[41] \"rpt4.probable.cause\"                 \"rpt5.alcohol\"                       \n",
      "[43] \"rpt5.drugs\"                          \"rpt5.nothing.seized\"                \n",
      "[45] \"rpt5.other.evidence\"                 \"rpt5.stolen.property\"               \n",
      "[47] \"rpt5.weapons\"                        \"rpt6.arrest\"                        \n",
      "[49] \"rpt6.citation\"                       \"rpt6.detox.hold\"                    \n",
      "[51] \"rpt6.field.contact\"                  \"rpt6.m.1.hold\"                      \n",
      "[53] \"rpt6.no.action\"                      \"rpt6.warning\"                       \n",
      "[55] \"rpt7.felony\"                         \"rpt7.misdemeanor\"                   \n",
      "[57] \"rpt7.municipal\"                      \"rpt7.not.charged\"                   \n",
      "[59] \"rpt7.traffic\"                        \"rpt7.warrant\"                       \n"
     ]
    }
   ],
   "source": [
    "dat = read.csv(paste0(DATA.DIR,'tidy.csv')) %>% set_colnames(tolower(names(.)))\n",
    "data %<>% mutate(raceethn=ifelse(ethnic=='H',race%>%paste0('H'), race%>%as.character))\n",
    "dat %>% names %>% print"
   ]
  },
  {
   "cell_type": "code",
   "execution_count": 10,
   "metadata": {},
   "outputs": [
    {
     "data": {
      "text/html": [
       "<table>\n",
       "<thead><tr><th scope=col>Description</th></tr></thead>\n",
       "<tbody>\n",
       "\t<tr><td>Type of Police activity as part of the stop. RPT1=Type of Stop, RPT2=Stop Reason, RPT3=Search Conducted, RPT4=Search Authority, RPT5=Contraband Found, RPT6=Result of Stop.</td></tr>\n",
       "</tbody>\n",
       "</table>\n"
      ],
      "text/latex": [
       "\\begin{tabular}{r|l}\n",
       " Description\\\\\n",
       "\\hline\n",
       "\t Type of Police activity as part of the stop. RPT1=Type of Stop, RPT2=Stop Reason, RPT3=Search Conducted, RPT4=Search Authority, RPT5=Contraband Found, RPT6=Result of Stop.\\\\\n",
       "\\end{tabular}\n"
      ],
      "text/markdown": [
       "\n",
       "Description | \n",
       "|---|\n",
       "| Type of Police activity as part of the stop. RPT1=Type of Stop, RPT2=Stop Reason, RPT3=Search Conducted, RPT4=Search Authority, RPT5=Contraband Found, RPT6=Result of Stop. | \n",
       "\n",
       "\n"
      ],
      "text/plain": [
       "  Description                                                                                                                                                                \n",
       "1 Type of Police activity as part of the stop. RPT1=Type of Stop, RPT2=Stop Reason, RPT3=Search Conducted, RPT4=Search Authority, RPT5=Contraband Found, RPT6=Result of Stop."
      ]
     },
     "metadata": {},
     "output_type": "display_data"
    }
   ],
   "source": [
    "tellme = function(x){\n",
    "    read.csv(paste0(DATA.DIR,'/police_stop_data_dictionary.csv')) %>%\n",
    "        filter(Column.Name==x) %>%\n",
    "        select(Description) %>%\n",
    "        return\n",
    "}\n",
    "\n",
    "app.key.list = function(n){\n",
    "    key = paste0('rpt',as.character(n))\n",
    "    data %>% select(starts_with(key)) %>% names %>% return\n",
    "}\n",
    "\n",
    "tellme('appkey')\n"
   ]
  },
  {
   "cell_type": "markdown",
   "metadata": {},
   "source": [
    "### A Bayesian Idiom \n",
    "#### Probability Notation\n",
    "$\\text{Pr}[Y=x]$ is \"the probability that random variable Y takes value x\"\n",
    "$\\text{Pr}[Y]$ is an abbreviation of the above, where $x$ is implied to be variable ie. the probability density function\n",
    "$\\text{Pr}[Y=x|A=b]$ is \"the probabilty that random variable $Y=x$ given that $A=b$\"\n",
    "\n",
    "#### Binomial Random Variable\n",
    "One of the first problems to be addressed using the Bayesian methodology was that of estimating the \"probability\" parameter of a binomial random variable. Say that a random variable $X$ takes values in $\\{0,1\\}$, with $\\text{Pr}[X=1] = \\pi$. Say that we observe $n$ such draws of $X$, which we will denote $X_1=X_1,...,X_n=x_n$. The probability of this sequence of observations is:\n",
    "$$\n",
    "\\text{Pr}[X_1=x_1,...,X_n=x_n|\\pi=p] = S_n^p (n-s_n)^{1-p}\n",
    "$$\n",
    "Where $s_n = \\sum_i^n x_i$. Furthermore (per the principal of indifference) we can place a uniform prior over $p$. Per Bayes theorem, we can therefore say the following:\n",
    "$$\n",
    "\\text{Pr}[\\pi=p|X_1=x_1,...,X_n=x_n] \\propto s_n^p (n-s_n)^{1-p}\n",
    "$$\n",
    "One can quickly see that this posterior is simply a Beta distribution with parameters $\\alpha=1+s_n$ and $\\beta=1+(n-s_n)$. Per standard results about the Beta distribution, the posterior expected value of $\\pi$ is then $\\frac{1+s_n}{2+n}$ and the posterior variance is $\\frac{(1+s_n)(1+n - s_n)}{(2+n)^2(3+n)}$. These give us some handy formulae to perform inference over $p$, which we'll encode using some helper functions"
   ]
  },
  {
   "cell_type": "code",
   "execution_count": null,
   "metadata": {},
   "outputs": [],
   "source": [
    "# posterior distribution given binomial likelihood and beta prior                              \n",
    "binom.posterior = function(p, outcome_vec, pr.alpha=1, pr.beta=1){\n",
    "    p %>% dbeta(pr.alpha + sum(outcome_vec), pr.beta + length(outcome_vec) - sum(outcome_vec)) %>%\n",
    "        return\n",
    "}\n",
    "\n",
    "binom.posterior.exp.var = function(outcome_vec,pr.alpha=1,pr.beta=0){\n",
    "    a = pr.alpha + sum(outcome_vec)\n",
    "    b = pr.beta + length(outcome_vec) - sum(outcome_vec)\n",
    "    mean = a/(a+b)\n",
    "    var = (a*b)/((a+b+1)*(a+b)^2)\n",
    "    return(list('mean'=mean,'var'=var))\n",
    "}"
   ]
  },
  {
   "cell_type": "code",
   "execution_count": 17,
   "metadata": {},
   "outputs": [],
   "source": []
  },
  {
   "cell_type": "markdown",
   "metadata": {},
   "source": [
    "### Who's deemed suspicious?\n",
    "The data includes some entries for appkey \"RPT2: Stop reason\", and some the listed stop reasons are \"suspicious. For anyone who's even vaguely paying attention this will probably set off alarm bells as \"suspicious\" is a highly racialized descriptor in this context. Let's first check how many times a stop was initiated because someone was deemed \"suspicious\", and let's break those counts down by race. "
   ]
  },
  {
   "cell_type": "code",
   "execution_count": 42,
   "metadata": {},
   "outputs": [
    {
     "data": {
      "text/html": [
       "<table>\n",
       "<thead><tr><th scope=col>Race</th><th scope=col># Suspicious Stops</th><th scope=col>Total Stops</th><th scope=col>Percentage</th></tr></thead>\n",
       "<tbody>\n",
       "\t<tr><td>    </td><td>  0 </td><td>  72</td><td>0.00</td></tr>\n",
       "\t<tr><td>H   </td><td>  0 </td><td>   1</td><td>0.00</td></tr>\n",
       "\t<tr><td>IH  </td><td>  0 </td><td>   1</td><td>0.00</td></tr>\n",
       "\t<tr><td>U   </td><td>  0 </td><td>  10</td><td>0.00</td></tr>\n",
       "\t<tr><td>A   </td><td>  6 </td><td> 310</td><td>0.02</td></tr>\n",
       "\t<tr><td>W   </td><td>224 </td><td>6762</td><td>0.03</td></tr>\n",
       "\t<tr><td>WH  </td><td> 31 </td><td> 663</td><td>0.05</td></tr>\n",
       "\t<tr><td>B   </td><td> 21 </td><td> 353</td><td>0.06</td></tr>\n",
       "\t<tr><td>I   </td><td>  2 </td><td>  35</td><td>0.06</td></tr>\n",
       "</tbody>\n",
       "</table>\n"
      ],
      "text/latex": [
       "\\begin{tabular}{r|llll}\n",
       " Race & \\# Suspicious Stops & Total Stops & Percentage\\\\\n",
       "\\hline\n",
       "\t      &   0  &   72 & 0.00\\\\\n",
       "\t H    &   0  &    1 & 0.00\\\\\n",
       "\t IH   &   0  &    1 & 0.00\\\\\n",
       "\t U    &   0  &   10 & 0.00\\\\\n",
       "\t A    &   6  &  310 & 0.02\\\\\n",
       "\t W    & 224  & 6762 & 0.03\\\\\n",
       "\t WH   &  31  &  663 & 0.05\\\\\n",
       "\t B    &  21  &  353 & 0.06\\\\\n",
       "\t I    &   2  &   35 & 0.06\\\\\n",
       "\\end{tabular}\n"
      ],
      "text/markdown": [
       "\n",
       "Race | # Suspicious Stops | Total Stops | Percentage | \n",
       "|---|---|---|---|---|---|---|---|---|\n",
       "|      |   0  |   72 | 0.00 | \n",
       "| H    |   0  |    1 | 0.00 | \n",
       "| IH   |   0  |    1 | 0.00 | \n",
       "| U    |   0  |   10 | 0.00 | \n",
       "| A    |   6  |  310 | 0.02 | \n",
       "| W    | 224  | 6762 | 0.03 | \n",
       "| WH   |  31  |  663 | 0.05 | \n",
       "| B    |  21  |  353 | 0.06 | \n",
       "| I    |   2  |   35 | 0.06 | \n",
       "\n",
       "\n"
      ],
      "text/plain": [
       "  Race # Suspicious Stops Total Stops Percentage\n",
       "1        0                  72        0.00      \n",
       "2 H      0                   1        0.00      \n",
       "3 IH     0                   1        0.00      \n",
       "4 U      0                  10        0.00      \n",
       "5 A      6                 310        0.02      \n",
       "6 W    224                6762        0.03      \n",
       "7 WH    31                 663        0.05      \n",
       "8 B     21                 353        0.06      \n",
       "9 I      2                  35        0.06      "
      ]
     },
     "metadata": {},
     "output_type": "display_data"
    }
   ],
   "source": [
    "data %>% group_by(raceethn) %>% \n",
    "summarize(sum(rpt2.suspicious),n()) %>%\n",
    "set_colnames(c('Race','a','b')) %>%\n",
    "mutate(test=round(a/b,2)) %>%\n",
    "set_colnames(c('Race','# Suspicious Stops','Total Stops','Percentage')) %>%\n",
    "arrange(Percentage)"
   ]
  },
  {
   "cell_type": "markdown",
   "metadata": {},
   "source": [
    "As suspected, there appear to be some racial differences in the composition of stop reasons. Race codes `B` and `I` especially seem to have a higher percentage of \"suspicious\" stops than `W` or `A`. We can be more rigorous about this using our helper function `unif.beta.updated` to make inferences about the probability that, given someone of race $r$ was stopped in the first place, that they were stopped because they were  \"suspicious\". We'll denote this probability $p_r$. Given some binary vector of whether a stop was \"suspicious\" or not, `unif.beta.updated` will return a posterior probability density over values of $p_r$. Values with higher posterior density are more consistent with the input data, and narrow posteriors indicated higher certainty than broader ones.\n",
    "\n",
    "A subtle but important point here (that you may have guessed from the awkward wording in the definition of $p_r$) is that $p_r$ is *not* the same as \"the probability that someone of race $r$ was deemed suspicious\", which I will denote $\\rho_r$. Rewriting the definition of these two quantities using more formal probability notation can help make this difference apparent:\n",
    "$$\n",
    "\\begin{split}\n",
    "p_r &= \\text{Pr}[\\text{suspicious}=1 | \\text{race}=r, \\text{stopped}=1]\\\\\n",
    "\\rho_r &= \\text{Pr}[\\text{suspicious}=1|\\text{race}=r] \\\\\n",
    "\\end{split}\n",
    "$$\n",
    "Clearly these are different quantities, although they are related in the following way:\n",
    "$$\n",
    "\\begin{split}\n",
    "\\text{Pr}[\\text{suspicious}=1|\\text{race}=r] = &\\text{Pr}[\\text{suspicious}=1|\\text{race}=r, \\text{stopped}=0]\\text{Pr}[\\text{stopped}=0|\\text{race}=r] +\\\\\n",
    "&\\text{Pr}[\\text{suspicious}=1|\\text{race}=r, \\text{stopped}=1]\\text{Pr}[\\text{stopped}=1|\\text{race}=r]\\\\\n",
    "\\end{split}\n",
    "$$\n",
    "That is to say, $\\rho_r$ is the result of marginalizing over the $\\text{stopped}$ random variable. Since this dataset by definition only contains data where $\\text{stopped}=1$, we have no information about what happens when $\\text{stopped}=0$. This means that while this analysis may show serious differences in $p_r$ by race, those differences may disappear or reverse if we're talking about the more general quantity $\\rho_r$. \"The probability some one is deemed suspicious, given that they were stopped\" may be bigger (or smaller) than \"the probability that someone was deemed supicious\"."
   ]
  },
  {
   "cell_type": "code",
   "execution_count": 11,
   "metadata": {},
   "outputs": [
    {
     "data": {},
     "metadata": {},
     "output_type": "display_data"
    },
    {
     "data": {
      "image/png": "[encoded data removed]",
      "text/plain": [
       "plot without title"
      ]
     },
     "metadata": {},
     "output_type": "display_data"
    }
   ],
   "source": [
    "prob.susp.by.race = function(x,r){ data %>%\n",
    "                                       filter(raceethn==r) %>%\n",
    "                                       select(rpt2.suspicious) %>%\n",
    "                                       as.matrix %>%\n",
    "                                       unif.beta.updated(x,.) %>%\n",
    "                                       return }\n",
    "\n",
    "x = seq(0,.13,.001)\n",
    "plot.df = sapply(data %>%\n",
    "                 group_by(raceethn2) %>%\n",
    "                 filter(n()>100) %>% as.data.frame %>%\n",
    "                 select(raceethn2) %>%\n",
    "                 unique %>% .[,1],\n",
    "                 function(r){x %>% prob.susp.by.race(r)}) %>% as.data.frame\n",
    "\n",
    "plot.df$x = x\n",
    "plot.df = plot.df %>% melt('x') %>% set_colnames(c('x','race','post'))\n",
    "p = ggplot( plot.df, aes(x=x, y=post, color=as.factor(race), group=race) ) +\n",
    "    geom_line() +\n",
    "    xlab('Prob of Stopping bc \"Suspicious\"') + ylab('Posterior Density')\n",
    "p"
   ]
  },
  {
   "cell_type": "code",
   "execution_count": 12,
   "metadata": {},
   "outputs": [
    {
     "data": {
      "text/html": [
       "<table>\n",
       "<thead><tr><th scope=col>race</th><th scope=col>mean(stoptime)</th></tr></thead>\n",
       "<tbody>\n",
       "\t<tr><td>        </td><td>1156.822</td></tr>\n",
       "\t<tr><td>A       </td><td>1237.339</td></tr>\n",
       "\t<tr><td>B       </td><td>1124.708</td></tr>\n",
       "\t<tr><td>I       </td><td>1470.028</td></tr>\n",
       "\t<tr><td>U       </td><td>1265.600</td></tr>\n",
       "\t<tr><td>W       </td><td>1278.223</td></tr>\n",
       "</tbody>\n",
       "</table>\n"
      ],
      "text/latex": [
       "\\begin{tabular}{r|ll}\n",
       " race & mean(stoptime)\\\\\n",
       "\\hline\n",
       "\t          & 1156.822\\\\\n",
       "\t A        & 1237.339\\\\\n",
       "\t B        & 1124.708\\\\\n",
       "\t I        & 1470.028\\\\\n",
       "\t U        & 1265.600\\\\\n",
       "\t W        & 1278.223\\\\\n",
       "\\end{tabular}\n"
      ],
      "text/markdown": [
       "\n",
       "race | mean(stoptime) | \n",
       "|---|---|---|---|---|---|\n",
       "|          | 1156.822 | \n",
       "| A        | 1237.339 | \n",
       "| B        | 1124.708 | \n",
       "| I        | 1470.028 | \n",
       "| U        | 1265.600 | \n",
       "| W        | 1278.223 | \n",
       "\n",
       "\n"
      ],
      "text/plain": [
       "  race mean(stoptime)\n",
       "1      1156.822      \n",
       "2 A    1237.339      \n",
       "3 B    1124.708      \n",
       "4 I    1470.028      \n",
       "5 U    1265.600      \n",
       "6 W    1278.223      "
      ]
     },
     "metadata": {},
     "output_type": "display_data"
    }
   ],
   "source": [
    "dat %>% group_by(race) %>% summarize( mean(stoptime ))"
   ]
  }
 ],
 "metadata": {
  "kernelspec": {
   "display_name": "R",
   "language": "R",
   "name": "ir"
  },
  "language_info": {
   "codemirror_mode": "r",
   "file_extension": ".r",
   "mimetype": "text/x-r-source",
   "name": "R",
   "pygments_lexer": "r",
   "version": "3.5.3"
  }
 },
 "nbformat": 4,
 "nbformat_minor": 2
}
