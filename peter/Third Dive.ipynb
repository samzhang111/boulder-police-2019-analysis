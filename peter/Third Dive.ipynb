{
 "cells": [
  {
   "cell_type": "code",
   "execution_count": 1,
   "metadata": {
    "scrolled": true
   },
   "outputs": [
    {
     "name": "stderr",
     "output_type": "stream",
     "text": [
      "\n",
      "Attaching package: ‘dplyr’\n",
      "\n",
      "The following objects are masked from ‘package:stats’:\n",
      "\n",
      "    filter, lag\n",
      "\n",
      "The following objects are masked from ‘package:base’:\n",
      "\n",
      "    intersect, setdiff, setequal, union\n",
      "\n",
      "Loading required package: viridisLite\n"
     ]
    }
   ],
   "source": [
    "# setup\n",
    "library(reshape2)\n",
    "library(magrittr)\n",
    "library(dplyr)\n",
    "library(ggplot2)\n",
    "library(viridis)\n",
    "\n",
    "DATA.DIR = '../data/'\n",
    "\n",
    "tellme = function(x){\n",
    "    read.csv(paste0(DATA.DIR,'/police_stop_data_dictionary.csv')) %>%\n",
    "        filter(Column.Name==x) %>%\n",
    "        select(Description) %>%\n",
    "        return\n",
    "}\n",
    "\n",
    "app.key.list = function(n){\n",
    "    key = paste0('rpt',as.character(n))\n",
    "    data %>% select(starts_with(key)) %>% names %>% return\n",
    "}\n"
   ]
  },
  {
   "cell_type": "markdown",
   "metadata": {},
   "source": [
    "## Introduction\n",
    "May 1, 2019 [Boulder PD released a (cleaned and processed) dataset](https://www.denverpost.com/2019/05/01/people-of-color-arrests-boulder-police-stop/) containing data on all *discretionary* stops made by Boulder police in 2018. Discretionary stops make up only a fraction of Boulder police activity, with the vast majority of police interactions being *non-discretionary*, eg. where an officer was dispatched based on a 911 call. Approximately 66,400 police interactions are non-discretionary (per an in-person workshop on the data organized by the City of Boulder on May 6, 2019), whereas 8,209 are discretionary. \n",
    "\n",
    "The data were compiled on the recommendation of the consulting firm Hillard Heintz, who in 2016 were hired to perform an internal study of arrest and citation activity within Boulder PD. The [official report](https://bouldercolorado.gov/police/stop-data-information) released by the city has a few high-level takeaways:\n",
    "1. The report represents only a single year of data and \"cannot yet be put into context\" (ie. trending up or down)\n",
    "2. Small data sizes mean that small changes in stop or citation number may have meaningful effects in data trends\n",
    "3. Laws and policies regulating discretionary action can have \"significant positive effects\", but will require coordinated action\n",
    "4. Racial differences in stop rates differ by base population. Black residents are overstopped relative to the population, but this is not the case for black non-residents.\n",
    "\n",
    "This data suggests that racial bias is likely occurring in the discretionary stops of Boulder police. We see that black individuals are over-represented in the stop dataset, relative to the demographic baselines provided in the official border report (what I will call the \"top-level stop rates\"). I break down the stop data in a number of ways which highlight some of the reasons why this bias occurs in the top-level. I find, for example, that black individuals who have been stopped are more likely to be considered \"suspicious\", and that black individuals who are searched for contraband are less likely to have it than their white counterparts. My results are not strictly limited to white or black individuals, however due to small sample sizes other races it is hard to draw conclusions about bias towards eg. Indigenous Americans.  \n",
    "\n",
    "In this report I examine open data on discretionary police stops made by the Boulder Police Deptartment in 2018. My goal is to determine if the data exhibits evidence of racial bias in stop activity, and if so to break it down across activity types.\n",
    "\n",
    "### About the Data\n",
    "The original data is broken into two files: `police_stop_data_main_2018.csv` and `police_stop_data_results_2018.csv`. The first dataset contains a row for every individual discretionary stop made by Boulder PD. Let's see what columns the data includes:"
   ]
  },
  {
   "cell_type": "code",
   "execution_count": 2,
   "metadata": {},
   "outputs": [
    {
     "name": "stdout",
     "output_type": "stream",
     "text": [
      " [1] \"stopdate\"      \"stoptime\"      \"streetnbr\"     \"streetdir\"    \n",
      " [5] \"street\"        \"Min\"           \"sex\"           \"race\"         \n",
      " [9] \"ethnic\"        \"Year.of.birth\" \"enfaction\"     \"rpmainid\"     \n"
     ]
    }
   ],
   "source": [
    "'police_stop_data_main_2018.csv' %>% paste0(DATA.DIR,.) %>% read.csv %>% names %>% print"
   ]
  },
  {
   "cell_type": "markdown",
   "metadata": {},
   "source": [
    "We see columns for stop date, time, and duration (in minutes), as well as for race, ethnicity, and sex of the stopped individual **as percieved by the reporting officer**. We also have columns `enfaction`, which indicates if the stopped individual was a resident of Boulder or not, and an `rpmainid`, which links each row to data in the second dataset.\n",
    "\n",
    "The structure of `police_stop_data_results_2018.csv` is slightly more complex. This file contains information on the stops listed in the `main` dataset, as well as any potential outcomes of each. Let's see what columns it has:"
   ]
  },
  {
   "cell_type": "code",
   "execution_count": 3,
   "metadata": {},
   "outputs": [
    {
     "name": "stdout",
     "output_type": "stream",
     "text": [
      "[1] \"appkey\"   \"appid\"    \"itemcode\" \"itemdesc\" \"addtime\" \n"
     ]
    }
   ],
   "source": [
    "'police_stop_data_results_2018.csv' %>% paste0(DATA.DIR,.) %>% read.csv %>% names %>% print"
   ]
  },
  {
   "cell_type": "markdown",
   "metadata": {},
   "source": [
    "The `appid` column is used to link rows in `results` to rows in `main` (through the `rpmainid` column in `main`). A big difference here is that each value of `rpmainid` appears only once in `main`, whereas a single `appid` might be listed in multiple rows in `results`, corresponding to multiple outcomes of the same stop. The `appkey` column contains one of seven different values, 'RPT1' through 'RPT7', which indicate what kind of information is contained in the row:\n",
    "\n",
    "| Appkey | Data              |\n",
    "|--------|-------------------|\n",
    "| RPT1   | Stop type         |\n",
    "| RPT2   | Stop reason       |\n",
    "| RPT3   | Search conducted  |\n",
    "| RPT4   |  Search authority |\n",
    "| RPT5   |  Contraband found |\n",
    "| RPT6   | Result of stop    |\n",
    "| RPT7   |  Charge issued    |\n",
    "\n",
    "\n",
    "The corresponding info is then stored in `itemdesc`. Each pair of `appid` and `appkey` might be listed in multiple rows, eg. if there's more than one reason for the stop. This is not a very convenient data stucture. It would be far better if all of the information was present in a single dataset, and if each row corresponded to exactly one stop (ie. if the data was \"tidy\"). Fortunately my friend [Sam](https://github.com/samzhang111) has gone ahead and [tidied]() the data. This basically swings the each `appkey`/`infodesc` pair out into its own column. For example, if a row has an `appkey` of \"rpt1\" and an `infodesc` of \"pedestrian\" that gets converted into a \"1\" under the column `rpt1.pedestrian`. Let's see what this looks like..."
   ]
  },
  {
   "cell_type": "code",
   "execution_count": 4,
   "metadata": {},
   "outputs": [
    {
     "name": "stdout",
     "output_type": "stream",
     "text": [
      " [1] \"stopdate\"                            \"stoptime\"                           \n",
      " [3] \"streetnbr\"                           \"streetdir\"                          \n",
      " [5] \"street\"                              \"min\"                                \n",
      " [7] \"sex\"                                 \"race\"                               \n",
      " [9] \"ethnic\"                              \"year.of.birth\"                      \n",
      "[11] \"enfaction\"                           \"rpmainid\"                           \n",
      "[13] \"raceethn\"                            \"rpt1.pedestrian\"                    \n",
      "[15] \"rpt1.vehicle\"                        \"rpt2.disturbance\"                   \n",
      "[17] \"rpt2.equipment.violation\"            \"rpt2.municipal.violation\"           \n",
      "[19] \"rpt2.noise.violation\"                \"rpt2.right.of.way.violation\"        \n",
      "[21] \"rpt2.speeding\"                       \"rpt2.state.violation\"               \n",
      "[23] \"rpt2.suspicious\"                     \"rpt2.traffic.parking.violation\"     \n",
      "[25] \"rpt2.traffic.reckless.careless\"      \"rpt2.traffic.reddi.observed.pc\"     \n",
      "[27] \"rpt2.traffic.right.of.way.violation\" \"rpt2.traffic.speeding\"              \n",
      "[29] \"rpt2.welfare.check\"                  \"rpt3..no.search\"                    \n",
      "[31] \"rpt3.driver\"                         \"rpt3.no.search\"                     \n",
      "[33] \"rpt3.passenger\"                      \"rpt3.person\"                        \n",
      "[35] \"rpt3.property\"                       \"rpt3.vehicle\"                       \n",
      "[37] \"rpt4.consent\"                        \"rpt4.impound\"                       \n",
      "[39] \"rpt4.incident.to.arrest\"             \"rpt4.plain.view\"                    \n",
      "[41] \"rpt4.probable.cause\"                 \"rpt5.alcohol\"                       \n",
      "[43] \"rpt5.drugs\"                          \"rpt5.nothing.seized\"                \n",
      "[45] \"rpt5.other.evidence\"                 \"rpt5.stolen.property\"               \n",
      "[47] \"rpt5.weapons\"                        \"rpt6.arrest\"                        \n",
      "[49] \"rpt6.citation\"                       \"rpt6.detox.hold\"                    \n",
      "[51] \"rpt6.field.contact\"                  \"rpt6.m.1.hold\"                      \n",
      "[53] \"rpt6.no.action\"                      \"rpt6.warning\"                       \n",
      "[55] \"rpt7.felony\"                         \"rpt7.misdemeanor\"                   \n",
      "[57] \"rpt7.municipal\"                      \"rpt7.not.charged\"                   \n",
      "[59] \"rpt7.traffic\"                        \"rpt7.warrant\"                       \n"
     ]
    }
   ],
   "source": [
    "dat = read.csv(paste0(DATA.DIR,'tidy.csv')) %>% set_colnames(tolower(names(.)))\n",
    "dat %<>% mutate(raceethn=ifelse(ethnic=='H',race%>%paste0('H'), race%>%as.character))\n",
    "dat %>% names %>% print"
   ]
  },
  {
   "cell_type": "markdown",
   "metadata": {},
   "source": [
    "### Analysis Methodology\n",
    "In this analysis we're going to want to estimate the probability that certain things occur, eg. \"what's the probability that a stop occurred because someone was 'suspicious'?\". I'm going to estimate these probabilities using the Bayesian methodology. The basic approach here is to find a probability distribution *over probabilities*. That is, given some set binary yes/no observations, we're going to construct what's called the \"posterior distribution\" over possible values of the probability of a \"yes\". Let's define some helper functions to do this. I'm going to skip explaining how these functions work in detail (see the bottom of the page for a deeper explanation), but the basic upshot is that they output a probability density function (pdf) which has high density over probability values that are consistent with the observed data. "
   ]
  },
  {
   "cell_type": "code",
   "execution_count": 47,
   "metadata": {},
   "outputs": [],
   "source": [
    "# posterior distribution given binomial likelihood and beta prior                              \n",
    "binom.posterior = function(q, outcome_vec, pr.alpha=1, pr.beta=1){\n",
    "    q %>% qbeta(pr.alpha + sum(outcome_vec), pr.beta + length(outcome_vec) - sum(outcome_vec)) %>%\n",
    "        return\n",
    "}\n",
    "\n",
    "binom.posterior.pdf = function(p, outcome_vec, pr.alpha=1, pr.beta=1){\n",
    "    p %>% dbeta(pr.alpha + sum(outcome_vec), pr.beta + length(outcome_vec) - sum(outcome_vec)) %>%\n",
    "        return\n",
    "}\n",
    "\n",
    "\n",
    "binom.posterior.exp.var = function(outcome_vec,pr.alpha=1,pr.beta=0){\n",
    "    a = pr.alpha + sum(outcome_vec)\n",
    "    b = pr.beta + length(outcome_vec) - sum(outcome_vec)\n",
    "    mean = a/(a+b)\n",
    "    var = (a*b)/((a+b+1)*(a+b)^2)\n",
    "    return(list('mean'=mean,'var'=var))\n",
    "}\n",
    "\n",
    "\n",
    "plot.posterior = function(post,race.cutoff=100){    \n",
    "    q = c(.1,.25,.50,.75,.9)\n",
    "    plot.df = sapply(dat %>%\n",
    "                    group_by(raceethn) %>%\n",
    "                    filter(n()>race.cutoff) %>% as.data.frame %>%\n",
    "                    select(raceethn) %>%\n",
    "                    unique %>% unlist,\n",
    "                    function(r){q %>% post(r)}) %>% as.data.frame\n",
    "    \n",
    "    plot.df$q = q\n",
    "    plot.df %<>%  melt('q') %>% set_colnames(c('q','race','quantiles')) %>% dcast(race ~ q ) \n",
    "    plot.df %<>% set_colnames(c('race','y0','y25','y50','y75','y100'))\n",
    "    plot.df$x = as.numeric(plot.df$race)\n",
    "    p = ggplot( plot.df, aes(x=x,group=as.factor(race), color=as.factor(race)) ) +\n",
    "        geom_boxplot( aes(ymin = y0, \n",
    "                          lower = y25, \n",
    "                          middle = y50, \n",
    "                          upper = y75, \n",
    "                          ymax = y100), stat = \"identity\") +\n",
    "        xlab(expression('p'[r])) + ylab('Posterior Density')\n",
    "    p %>% return\n",
    "}\n",
    "\n",
    "plot.posterior.pdf = function(post,low.bd=0,up.bd=1,race.cutoff=100){\n",
    "    x = seq(low.bd,up.bd,.001)\n",
    "    plot.df = sapply(dat %>%\n",
    "                     group_by(raceethn) %>%\n",
    "                     filter(n()>race.cutoff) %>% as.data.frame %>%\n",
    "                     select(raceethn) %>%\n",
    "                     unique %>% .[,1],\n",
    "                     function(r){x %>% post(r)}) %>% as.data.frame\n",
    "\n",
    "    plot.df$x = x\n",
    "    plot.df = plot.df %>% melt('x') %>% set_colnames(c('x','race','post'))\n",
    "    p = ggplot( plot.df, aes(x=x, y=post, color=as.factor(race), group=race) ) +\n",
    "        geom_line() +\n",
    "        xlab(expression('p'[r])) + ylab('Posterior Density')\n",
    "    p %>% return\n",
    "}\n"
   ]
  },
  {
   "cell_type": "markdown",
   "metadata": {},
   "source": [
    "## Getting into it\n",
    "A key challenge in assessing bias in top-level stop rates is the so-called \"denominator problem\": if X% of individuals stopped were of race R we typically want to know whether this number reflects the underlying demographics of the policed population. If race R is Y% of the population and Y << X then this indicates that race R is being over-policed, or vice versa. The City of Boulder did a lot of work estimating demographic information about the policed population of Boulder, which includes residents, students, people experiencing homelessness, and non-residents who commute for work. A closer look at this work can be found in their [2018 Annual Report](https://bouldercolorado.gov/police/stop-data-information). For our purposes we're just going to pull their population totals and demographic breakdown information and enter it manually."
   ]
  },
  {
   "cell_type": "code",
   "execution_count": 48,
   "metadata": {},
   "outputs": [],
   "source": [
    "pop.totals = c(106271,34510,21001,1960)\n",
    "white.percent = c(.879,.659,.687,.631)\n",
    "black.percent = c(.011,.025,.027,.074)\n",
    "asian.percent = c(.053,.078,.039,.006)\n",
    "indig.percent = c(.003,.016,.009,.028)\n",
    "\n",
    "demography.df = data.frame(race=c('white'))\n",
    "\n",
    "race.totals = c(sum(white.percent*pop.totals),\n",
    "                sum(indig.percent*pop.totals),\n",
    "                sum(black.percent*pop.totals),\n",
    "                sum(asian.percent*pop.totals)\n",
    "    ) %>% rev\n",
    "race.percent = round(race.totals/sum(race.totals),2)"
   ]
  },
  {
   "cell_type": "markdown",
   "metadata": {},
   "source": [
    "To measure top level stop rates by race we can simply count the number of occurences of each race in the `race` column of the tidied data (recall that each row of the tidied data corresponds to a single unique stop). Note that a single individual may have been stopped multiple time, and in that case would appear as two or more rows in the tidied data."
   ]
  },
  {
   "cell_type": "code",
   "execution_count": 7,
   "metadata": {},
   "outputs": [
    {
     "data": {
      "text/html": [
       "<table>\n",
       "<thead><tr><th scope=col>race</th><th scope=col>Stops</th><th scope=col>Percent</th><th scope=col>Pop Percent</th><th scope=col>Pop Total</th></tr></thead>\n",
       "<tbody>\n",
       "\t<tr><td>A         </td><td> 310      </td><td>0.04      </td><td>0.06      </td><td>  9154.942</td></tr>\n",
       "\t<tr><td>B         </td><td> 353      </td><td>0.04      </td><td>0.02      </td><td>  2743.798</td></tr>\n",
       "\t<tr><td>I         </td><td>  36      </td><td>0.00      </td><td>0.01      </td><td>  1114.862</td></tr>\n",
       "\t<tr><td>W         </td><td>7425      </td><td>0.90      </td><td>0.91      </td><td>131818.746</td></tr>\n",
       "</tbody>\n",
       "</table>\n"
      ],
      "text/latex": [
       "\\begin{tabular}{r|lllll}\n",
       " race & Stops & Percent & Pop Percent & Pop Total\\\\\n",
       "\\hline\n",
       "\t A          &  310       & 0.04       & 0.06       &   9154.942\\\\\n",
       "\t B          &  353       & 0.04       & 0.02       &   2743.798\\\\\n",
       "\t I          &   36       & 0.00       & 0.01       &   1114.862\\\\\n",
       "\t W          & 7425       & 0.90       & 0.91       & 131818.746\\\\\n",
       "\\end{tabular}\n"
      ],
      "text/markdown": [
       "\n",
       "race | Stops | Percent | Pop Percent | Pop Total | \n",
       "|---|---|---|---|\n",
       "| A          |  310       | 0.04       | 0.06       |   9154.942 | \n",
       "| B          |  353       | 0.04       | 0.02       |   2743.798 | \n",
       "| I          |   36       | 0.00       | 0.01       |   1114.862 | \n",
       "| W          | 7425       | 0.90       | 0.91       | 131818.746 | \n",
       "\n",
       "\n"
      ],
      "text/plain": [
       "  race Stops Percent Pop Percent Pop Total \n",
       "1 A     310  0.04    0.06          9154.942\n",
       "2 B     353  0.04    0.02          2743.798\n",
       "3 I      36  0.00    0.01          1114.862\n",
       "4 W    7425  0.90    0.91        131818.746"
      ]
     },
     "metadata": {},
     "output_type": "display_data"
    }
   ],
   "source": [
    "stop.breakdown = dat %>% filter(race=='W'|race=='B'|race=='A'|race=='I') %>%\n",
    "group_by(race) %>% \n",
    "summarize(Stops=n(),\n",
    "          Percent=round(n()/nrow(dat),2)) %>%\n",
    "mutate('Pop Percent'=race.percent, \n",
    "       'Pop Total'=race.totals)\n",
    "stop.breakdown"
   ]
  },
  {
   "cell_type": "markdown",
   "metadata": {},
   "source": [
    "So it looks like there's some mismatch between stop rates and demographic representation. But just from this table it's not clear if these differences are meaninful, or if they just represent noise. We can use the Bayesian approach to address this. By plotting the posterior density over the probability of being in the stop dataset by race we can get a sense of whether these differences are meaningful. "
   ]
  },
  {
   "cell_type": "code",
   "execution_count": 49,
   "metadata": {},
   "outputs": [
    {
     "data": {},
     "metadata": {},
     "output_type": "display_data"
    },
    {
     "data": {
      "image/png": "[encoded data removed]",
      "text/plain": [
       "plot without title"
      ]
     },
     "metadata": {},
     "output_type": "display_data"
    }
   ],
   "source": [
    "top.stop.posterior = function(x,r){\n",
    "    n = stop.breakdown %>% filter(race==r) %>% \n",
    "    select('Pop Total') %>% unlist %>% as.numeric\n",
    "    \n",
    "    stopped = stop.breakdown %>% filter(race==r) %>% \n",
    "    select(Stops) %>% unlist %>% as.numeric\n",
    "    \n",
    "    a = 1 + stopped\n",
    "    b = 1 + n - stopped\n",
    "\n",
    "    return( dbeta(x,a,b) )    \n",
    "\n",
    "}\n",
    "\n",
    "x = seq(0,1,.001)\n",
    "w = top.stop.posterior(x,'W')\n",
    "plot.df = data.frame('x'=x,\n",
    "                    'W'=top.stop.posterior(x,'W'),\n",
    "                    'B'=top.stop.posterior(x,'B'),\n",
    "                    'A'=top.stop.posterior(x,'A'),\n",
    "                    'I'=top.stop.posterior(x,'I')                    \n",
    "                    ) %>% melt(id.vars=c('x')) %>% set_colnames(c('x','Race','Posterior'))\n",
    "p = ggplot(plot.df,aes(x=x,y=Posterior,group=Race,color=Race)) + geom_line() + xlab('Probability of Being in Stop Dataset')\n",
    "p"
   ]
  },
  {
   "cell_type": "markdown",
   "metadata": {},
   "source": [
    "Since the posterior densities exhibit substantial amounts of separation it's pretty clear that there are racial differences between the probabilities of experiencing a discretionary stop. Asian and indigenous individuals seem to have similar, low probability of being stopped, relative to white individuals. On the other hand, black individuals are *substantially* more likely to be included in this data, and there appears to be almost no overlap with the other posterior densities. This is pretty clear evidence that race has some kind of effect on police stop rates. Let's dig in on why this might be the case."
   ]
  },
  {
   "cell_type": "markdown",
   "metadata": {},
   "source": [
    "### Who's deemed suspicious?\n",
    "The first thing we might look at to explain these racialized differences is \"RPT2: Stop Reason\". Let's see what kind of reasons Boulder police list for discretionary stops..."
   ]
  },
  {
   "cell_type": "code",
   "execution_count": 50,
   "metadata": {},
   "outputs": [
    {
     "data": {
      "text/html": [
       "<table>\n",
       "<thead><tr><th scope=col>Stop Reason</th><th scope=col>Number of Stops</th></tr></thead>\n",
       "<tbody>\n",
       "\t<tr><td>DISTURBANCE                   </td><td>  35                          </td></tr>\n",
       "\t<tr><td>EQUIPMENT VIOLATION           </td><td> 933                          </td></tr>\n",
       "\t<tr><td>MUNICIPAL VIOLATION           </td><td>2237                          </td></tr>\n",
       "\t<tr><td>NOISE VIOLATION               </td><td>  10                          </td></tr>\n",
       "\t<tr><td>RIGHT OF WAY VIOLATION        </td><td>   3                          </td></tr>\n",
       "\t<tr><td>SPEEDING                      </td><td>   1                          </td></tr>\n",
       "\t<tr><td>STATE VIOLATION               </td><td> 222                          </td></tr>\n",
       "\t<tr><td>SUSPICIOUS                    </td><td> 284                          </td></tr>\n",
       "\t<tr><td>TRAFFIC-PARKING VIOLATION     </td><td>  18                          </td></tr>\n",
       "\t<tr><td>TRAFFIC-RECKLESS/CARELESS     </td><td> 668                          </td></tr>\n",
       "\t<tr><td>TRAFFIC-REDDI OBSERVED PC     </td><td> 120                          </td></tr>\n",
       "\t<tr><td>TRAFFIC-RIGHT OF WAY VIOLATION</td><td> 776                          </td></tr>\n",
       "\t<tr><td>TRAFFIC-SPEEDING              </td><td>2808                          </td></tr>\n",
       "\t<tr><td>WELFARE CHECK                 </td><td> 103                          </td></tr>\n",
       "</tbody>\n",
       "</table>\n"
      ],
      "text/latex": [
       "\\begin{tabular}{r|ll}\n",
       " Stop Reason & Number of Stops\\\\\n",
       "\\hline\n",
       "\t DISTURBANCE                    &   35                          \\\\\n",
       "\t EQUIPMENT VIOLATION            &  933                          \\\\\n",
       "\t MUNICIPAL VIOLATION            & 2237                          \\\\\n",
       "\t NOISE VIOLATION                &   10                          \\\\\n",
       "\t RIGHT OF WAY VIOLATION         &    3                          \\\\\n",
       "\t SPEEDING                       &    1                          \\\\\n",
       "\t STATE VIOLATION                &  222                          \\\\\n",
       "\t SUSPICIOUS                     &  284                          \\\\\n",
       "\t TRAFFIC-PARKING VIOLATION      &   18                          \\\\\n",
       "\t TRAFFIC-RECKLESS/CARELESS      &  668                          \\\\\n",
       "\t TRAFFIC-REDDI OBSERVED PC      &  120                          \\\\\n",
       "\t TRAFFIC-RIGHT OF WAY VIOLATION &  776                          \\\\\n",
       "\t TRAFFIC-SPEEDING               & 2808                          \\\\\n",
       "\t WELFARE CHECK                  &  103                          \\\\\n",
       "\\end{tabular}\n"
      ],
      "text/markdown": [
       "\n",
       "Stop Reason | Number of Stops | \n",
       "|---|---|---|---|---|---|---|---|---|---|---|---|---|---|\n",
       "| DISTURBANCE                    |   35                           | \n",
       "| EQUIPMENT VIOLATION            |  933                           | \n",
       "| MUNICIPAL VIOLATION            | 2237                           | \n",
       "| NOISE VIOLATION                |   10                           | \n",
       "| RIGHT OF WAY VIOLATION         |    3                           | \n",
       "| SPEEDING                       |    1                           | \n",
       "| STATE VIOLATION                |  222                           | \n",
       "| SUSPICIOUS                     |  284                           | \n",
       "| TRAFFIC-PARKING VIOLATION      |   18                           | \n",
       "| TRAFFIC-RECKLESS/CARELESS      |  668                           | \n",
       "| TRAFFIC-REDDI OBSERVED PC      |  120                           | \n",
       "| TRAFFIC-RIGHT OF WAY VIOLATION |  776                           | \n",
       "| TRAFFIC-SPEEDING               | 2808                           | \n",
       "| WELFARE CHECK                  |  103                           | \n",
       "\n",
       "\n"
      ],
      "text/plain": [
       "   Stop Reason                    Number of Stops\n",
       "1  DISTURBANCE                      35           \n",
       "2  EQUIPMENT VIOLATION             933           \n",
       "3  MUNICIPAL VIOLATION            2237           \n",
       "4  NOISE VIOLATION                  10           \n",
       "5  RIGHT OF WAY VIOLATION            3           \n",
       "6  SPEEDING                          1           \n",
       "7  STATE VIOLATION                 222           \n",
       "8  SUSPICIOUS                      284           \n",
       "9  TRAFFIC-PARKING VIOLATION        18           \n",
       "10 TRAFFIC-RECKLESS/CARELESS       668           \n",
       "11 TRAFFIC-REDDI OBSERVED PC       120           \n",
       "12 TRAFFIC-RIGHT OF WAY VIOLATION  776           \n",
       "13 TRAFFIC-SPEEDING               2808           \n",
       "14 WELFARE CHECK                   103           "
      ]
     },
     "metadata": {},
     "output_type": "display_data"
    }
   ],
   "source": [
    "'police_stop_data_results_2018.csv' %>% paste0(DATA.DIR,.) %>% \n",
    "read.csv %>% filter(appkey=='RPT2')  %>% group_by(itemdesc) %>% summarize(count=n()) %>%\n",
    "set_colnames(c('Stop Reason','Number of Stops'))"
   ]
  },
  {
   "cell_type": "markdown",
   "metadata": {},
   "source": [
    "So a sizeable number of the stops were because the stopping officer was \"suspicious\" of the stopped individual (284 of them). For anyone who's even vaguely paying attention this will probably set off alarm bells, as \"suspicious\" can be a highly racialized descriptor in this context. Let's break down \"suspicious\" stop counts by race and see if there's any bias at work."
   ]
  },
  {
   "cell_type": "code",
   "execution_count": 51,
   "metadata": {},
   "outputs": [
    {
     "data": {
      "text/html": [
       "<table>\n",
       "<thead><tr><th scope=col>Race</th><th scope=col># Suspicious Stops</th><th scope=col>Total Stops</th><th scope=col>Percentage</th></tr></thead>\n",
       "<tbody>\n",
       "\t<tr><td>    </td><td>  0 </td><td>  72</td><td>0.00</td></tr>\n",
       "\t<tr><td>H   </td><td>  0 </td><td>   1</td><td>0.00</td></tr>\n",
       "\t<tr><td>IH  </td><td>  0 </td><td>   1</td><td>0.00</td></tr>\n",
       "\t<tr><td>U   </td><td>  0 </td><td>  10</td><td>0.00</td></tr>\n",
       "\t<tr><td>A   </td><td>  6 </td><td> 310</td><td>0.02</td></tr>\n",
       "\t<tr><td>W   </td><td>224 </td><td>6762</td><td>0.03</td></tr>\n",
       "\t<tr><td>WH  </td><td> 31 </td><td> 663</td><td>0.05</td></tr>\n",
       "\t<tr><td>B   </td><td> 21 </td><td> 353</td><td>0.06</td></tr>\n",
       "\t<tr><td>I   </td><td>  2 </td><td>  35</td><td>0.06</td></tr>\n",
       "</tbody>\n",
       "</table>\n"
      ],
      "text/latex": [
       "\\begin{tabular}{r|llll}\n",
       " Race & \\# Suspicious Stops & Total Stops & Percentage\\\\\n",
       "\\hline\n",
       "\t      &   0  &   72 & 0.00\\\\\n",
       "\t H    &   0  &    1 & 0.00\\\\\n",
       "\t IH   &   0  &    1 & 0.00\\\\\n",
       "\t U    &   0  &   10 & 0.00\\\\\n",
       "\t A    &   6  &  310 & 0.02\\\\\n",
       "\t W    & 224  & 6762 & 0.03\\\\\n",
       "\t WH   &  31  &  663 & 0.05\\\\\n",
       "\t B    &  21  &  353 & 0.06\\\\\n",
       "\t I    &   2  &   35 & 0.06\\\\\n",
       "\\end{tabular}\n"
      ],
      "text/markdown": [
       "\n",
       "Race | # Suspicious Stops | Total Stops | Percentage | \n",
       "|---|---|---|---|---|---|---|---|---|\n",
       "|      |   0  |   72 | 0.00 | \n",
       "| H    |   0  |    1 | 0.00 | \n",
       "| IH   |   0  |    1 | 0.00 | \n",
       "| U    |   0  |   10 | 0.00 | \n",
       "| A    |   6  |  310 | 0.02 | \n",
       "| W    | 224  | 6762 | 0.03 | \n",
       "| WH   |  31  |  663 | 0.05 | \n",
       "| B    |  21  |  353 | 0.06 | \n",
       "| I    |   2  |   35 | 0.06 | \n",
       "\n",
       "\n"
      ],
      "text/plain": [
       "  Race # Suspicious Stops Total Stops Percentage\n",
       "1        0                  72        0.00      \n",
       "2 H      0                   1        0.00      \n",
       "3 IH     0                   1        0.00      \n",
       "4 U      0                  10        0.00      \n",
       "5 A      6                 310        0.02      \n",
       "6 W    224                6762        0.03      \n",
       "7 WH    31                 663        0.05      \n",
       "8 B     21                 353        0.06      \n",
       "9 I      2                  35        0.06      "
      ]
     },
     "metadata": {},
     "output_type": "display_data"
    }
   ],
   "source": [
    "dat %>% group_by(raceethn) %>% \n",
    "summarize(sum(rpt2.suspicious),n()) %>%\n",
    "set_colnames(c('Race','a','b')) %>%\n",
    "mutate(test=round(a/b,2)) %>%\n",
    "set_colnames(c('Race','# Suspicious Stops','Total Stops','Percentage')) %>%\n",
    "arrange(Percentage)"
   ]
  },
  {
   "cell_type": "markdown",
   "metadata": {},
   "source": [
    "As suspected, there appear to be some racial differences in the composition of stop reasons. Race codes `B` and `I` especially seem to have a higher percentage of \"suspicious\" stops than `W` or `A`. Let's use the Bayesian approach to be more rigorous about this. We'd like to estimate the probability that, given someone of race $r$ was stopped in the first place, that they were stopped because they were  \"suspicious\". We'll denote this probability $p_r$. A subtle but important point here (that you may have guessed from the awkward wording in the definition of $p_r$) is that $p_r$ is *not* the same as \"the probability that someone of race $r$ was deemed suspicious\", which I will denote $\\pi_r$. Rewriting the definition of these two quantities using more formal probability notation can help make this difference apparent:\n",
    "$$\n",
    "\\begin{split}\n",
    "p_r &= \\text{Pr}[\\text{suspicious}=1 | \\text{race}=r, \\text{stopped}=1]\\\\\n",
    "\\pi_r &= \\text{Pr}[\\text{suspicious}=1|\\text{race}=r] \\\\\n",
    "\\end{split}\n",
    "$$\n",
    "\n",
    "Clearly these are different quantities, although they are related in the following way:\n",
    "$$\n",
    "\\begin{split}\n",
    "\\text{Pr}[\\text{suspicious}=1|\\text{race}=r] = &\\text{Pr}[\\text{suspicious}=1|\\text{race}=r, \\text{stopped}=0]\\text{Pr}[\\text{stopped}=0|\\text{race}=r] +\\\\\n",
    "&\\text{Pr}[\\text{suspicious}=1|\\text{race}=r, \\text{stopped}=1]\\text{Pr}[\\text{stopped}=1|\\text{race}=r]\\\\\n",
    "\\end{split}\n",
    "$$\n",
    "That is to say, $\\pi_r$ is the result of marginalizing over the `stopped` random variable. Since this dataset by definition only contains data where $\\text{stopped}=1$, we have no information about what happens when $\\text{stopped}=0$. This means that while this analysis may show serious differences in $p_r$ by race, those differences may disappear or reverse if we're talking about the more general quantity $\\pi_r$. However for these differences to reverse it would require $\\text{Pr}[\\text{stopped}=1|\\text{race}=r]$ to be small, relative to $\\text{Pr}[\\text{suspicious}=1|\\text{race}=r, \\text{stopped}=0]\\text{Pr}[\\text{stopped}=0|\\text{race}=r]$, and in my opinion we really don't have reason to suspect that this is the case. \n",
    "\n",
    "With that caveat out of the way, let's look at the posterior density:"
   ]
  },
  {
   "cell_type": "code",
   "execution_count": 52,
   "metadata": {},
   "outputs": [
    {
     "name": "stderr",
     "output_type": "stream",
     "text": [
      "Using quantiles as value column: use value.var to override.\n"
     ]
    },
    {
     "data": {},
     "metadata": {},
     "output_type": "display_data"
    },
    {
     "data": {
      "image/png": "[encoded data removed]",
      "text/plain": [
       "plot without title"
      ]
     },
     "metadata": {},
     "output_type": "display_data"
    }
   ],
   "source": [
    "prob.susp.by.race = function(x,r){ dat %>%\n",
    "                                       filter(raceethn==r) %>%\n",
    "                                       select(rpt2.suspicious) %>%\n",
    "                                       as.matrix %>%\n",
    "                                       binom.posterior(x,.) %>%\n",
    "                                       return }\n",
    "\n",
    "plot.posterior(prob.susp.by.race)"
   ]
  },
  {
   "cell_type": "markdown",
   "metadata": {},
   "source": [
    "### Given someone is searched, what's the probability that they have contraband?\n",
    "A common counterpoint to analyses like the above is that racial differences in stop rates may reflect racial differences in the underlying crime rates, rather than racism. One way that we can test this is performing what's called an outcome test. This idea originated in the economics literature to test loan officers were discriminating against black applicants. The idea there was to look at whether blacks individuals who *did* recieve home loans defaulted at a lower rate than their white counterparts. If this is the case (and it was), then it indicated that the loan officers were holding black applicants to a higher standard than white applicants. We can apply a similar logic here, and look at the rates at which police searches turn up contraband. If black individuals who are searched are *less* likely to have contraband than white individuals who are searched, then it suggests that police are searching black individuals with a lower threshold of evidence, ie. that racial animus is probably a factor in their decision to search. Let's plot the posterior density over the probability that, given someone is searched, the search turns up contraband:"
   ]
  },
  {
   "cell_type": "code",
   "execution_count": 53,
   "metadata": {
    "scrolled": false
   },
   "outputs": [
    {
     "name": "stderr",
     "output_type": "stream",
     "text": [
      "Using quantiles as value column: use value.var to override.\n"
     ]
    },
    {
     "data": {},
     "metadata": {},
     "output_type": "display_data"
    },
    {
     "data": {
      "image/png": "[encoded data removed]",
      "text/plain": [
       "plot without title"
      ]
     },
     "metadata": {},
     "output_type": "display_data"
    }
   ],
   "source": [
    "prob.cont.given.searched = function(x,r){ dat %>%\n",
    "                                            mutate(rpt3.search=not(rpt3.no.search|rpt3..no.search) ) %>%\n",
    "                                            filter(raceethn==r & rpt3.search==1) %>%\n",
    "                                            select(rpt5.nothing.seized) %>%\n",
    "                                            as.matrix %>% `!` %>%\n",
    "                                            binom.posterior(x,.) %>%\n",
    "                                            return }\n",
    "\n",
    "prob.cont.given.searched.resident = function(x,r){ dat %>%\n",
    "                                            mutate(rpt3.search=not(rpt3.no.search|rpt3..no.search) ) %>%\n",
    "                                            filter(raceethn==r & rpt3.search==1 & enfaction=='Y') %>%\n",
    "                                            select(rpt5.nothing.seized) %>%\n",
    "                                            as.matrix %>% `!` %>%\n",
    "                                            binom.posterior(x,.) %>%\n",
    "                                            return }\n",
    "\n",
    "prob.cont.given.searched.nonresident = function(x,r){ dat %>%\n",
    "                                            mutate(rpt3.search=not(rpt3.no.search|rpt3..no.search) ) %>%\n",
    "                                            filter(raceethn==r & rpt3.search==1 & enfaction=='N') %>%\n",
    "                                            select(rpt5.nothing.seized) %>%\n",
    "                                            as.matrix %>% `!` %>%\n",
    "                                            binom.posterior(x,.) %>%\n",
    "                                            return }\n",
    "\n",
    "plot.posterior(prob.cont.given.searched)\n"
   ]
  },
  {
   "cell_type": "markdown",
   "metadata": {},
   "source": [
    "### Most racialized search reason?\n",
    "Repeat \"prob searched because suspicious\" analysis for each `RPT2` `itemdesc`. Calculate pairwise TV distance between posteriors of all races, and then average. Look for `itemdesc` with highest average TV distance.\n",
    "\n",
    "TV distance is hard to calculate, and I can't find exact formulae for beta distributions. Instead gonna use the Hellinger distance $H(P,Q)$ instead (which has a known expression for betas). Then $H^2(P,Q) \\leq TV(P,Q) \\leq \\sqrt{2} H(P,Q)$, so gonna use the lower bound as a sub for TV"
   ]
  },
  {
   "cell_type": "code",
   "execution_count": 174,
   "metadata": {
    "scrolled": false
   },
   "outputs": [
    {
     "data": {
      "text/html": [
       "-5.67565420329817"
      ],
      "text/latex": [
       "-5.67565420329817"
      ],
      "text/markdown": [
       "-5.67565420329817"
      ],
      "text/plain": [
       "[1] -5.675654"
      ]
     },
     "metadata": {},
     "output_type": "display_data"
    },
    {
     "data": {
      "text/html": [
       "-5.67565416429386"
      ],
      "text/latex": [
       "-5.67565416429386"
      ],
      "text/markdown": [
       "-5.67565416429386"
      ],
      "text/plain": [
       "[1] -5.675654"
      ]
     },
     "metadata": {},
     "output_type": "display_data"
    }
   ],
   "source": [
    "dist.hellinger = function(outcome1,outcome2,pr.alpha=1,pr.beta=1){\n",
    "    a1 = 1 + sum(outcome1)\n",
    "    a2 = 1 + sum(outcome2)\n",
    "    b1 = 1 + length(outcome1) - sum(outcome1)\n",
    "    b2 = 1 + length(outcome2) - sum(outcome2)\n",
    "    \n",
    "    if (beta(a1,b1)*beta(a2,b2) == 0){return(1)} \n",
    "    else {}\n",
    "    ret = 1 - beta( (a1+a2)/2, (b1+b2)/2 )/sqrt( beta(a1,b1) * beta(a2,b2) )\n",
    "    return(ret)\n",
    "}\n",
    "\n",
    "dist.tv = function(outcome1,outcome2){\n",
    "    p = seq(0,1,.05)\n",
    "    pdf1 = binom.posterior.pdf(p, outcome1)\n",
    "    pdf2 = binom.posterior.pdf(p, outcome2)\n",
    "    \n",
    "    pdf1 = pdf1/sum(pdf1)\n",
    "    pdf2 = pdf2/sum(pdf2)\n",
    "    \n",
    "    diff.pdf = abs(pdf1 - pdf2)\n",
    "    \n",
    "    tv = -Inf\n",
    "    for (n in 1:length(diff.pdf)){\n",
    "        for( A in combn(diff.pdf,n) ){\n",
    "            msr=sum(A)\n",
    "            if (tv < msr){tv=msr}\n",
    "            else {}\n",
    "            \n",
    "        }\n",
    "    }\n",
    "    \n",
    "    tv %>% return\n",
    "}\n",
    "\n",
    "dist.bf = function(outcome1,outcome2){\n",
    "    mod1.a1 = 1 + sum(outcome1)\n",
    "    mod1.b1 = 1 + length(outcome1) - sum(outcome1)\n",
    "    mod1.a2 = 1 + sum(outcome2)\n",
    "    mod1.b2 = 1 + length(outcome2) - sum(outcome2)\n",
    "    \n",
    "    mod1.prD = choose(length(outcome1),sum(outcome1))*beta(mod1.a1,mod1.b1)*\n",
    "            choose(length(outcome2),sum(outcome2))*beta(mod1.a2,mod1.b2)   \n",
    "    \n",
    "    outcome = c(outcome1,outcome2) \n",
    "    mod2.a = 1 + sum(outcome)\n",
    "    mod2.b = 1 + length(outcome) - sum(outcome)\n",
    "    \n",
    "    mod2.prD = choose(length(outcome),sum(outcome))*beta(mod2.a,mod2.b) \n",
    "\n",
    "    return(mod1.prD/mod2.prD)       \n",
    "}\n",
    "\n",
    "\n",
    "pairwise.distance.comp = function(itemdesc, race.cutoff=400){ \n",
    "    races = dat %>% group_by(raceethn) %>% filter(n()>race.cutoff) %>% as.data.frame %>%\n",
    "    select(raceethn) %>% unique %>% .[,1]\n",
    "    races = c('W','B','WH','A','I')\n",
    "    comp.pairs = expand.grid(races,races)\n",
    "    \n",
    "    hdists = c()\n",
    "    for (i in 1:length(races)){\n",
    "            for (j in i:length(races)){\n",
    "                if (i==j){next}\n",
    "                race1 = races[i]\n",
    "                race2 = races[j]\n",
    "                outcome1 = dat %>% filter(raceethn==race1) %>% select(itemdesc) %>% unlist\n",
    "                outcome2 = dat %>% filter(raceethn==race2) %>% select(itemdesc) %>% unlist\n",
    "    \n",
    "                hdists %<>% append( posterior.bf(outcome1,outcome2) )\n",
    "            }\n",
    "        }    \n",
    "    hdists %>% mean %>% return    \n",
    "}\n",
    "\n",
    "ln.beta.approx = function(a,b){\n",
    "    ret = log(beta(a,b))\n",
    "    if (abs(ret)<Inf){\n",
    "        return(ret)\n",
    "    }\n",
    "    \n",
    "    ret = .5*log(2*pi) + (a-.5)*log(a) + (b-.5)*log(b) - (a+b-.5)*log(a+b)\n",
    "    \n",
    "}\n",
    "\n",
    "ln.binom.approx = function(n,k){\n",
    "    ret = log(choose(n,k))\n",
    "    \n",
    "    if (ret<Inf){ return(ret) }\n",
    "    \n",
    "    ret = .5*log(n) - .5*log(2*pi*k*(n-k)) + n*log(n) - k*log(k) - (n-k)*log(n-k)\n",
    "    return(ret)\n",
    "}\n",
    "\n",
    "full.bf.comp = function(itemdesc, race.cutoff=100){ \n",
    "    races = dat %>% group_by(raceethn) %>% filter(n()>race.cutoff) %>% as.data.frame %>%\n",
    "    select(raceethn) %>% unique %>% unlist\n",
    "    races = c('W','B')\n",
    "\n",
    "    numer.terms = c()\n",
    "    for (i in 1:length(races)){\n",
    "        race = races[i]\n",
    "        outcome = dat[dat$raceethn==race,] %>% select(itemdesc) %>% unlist        \n",
    "        a = 1 + sum(outcome)\n",
    "        b = 1 + length(outcome) - sum(outcome)\n",
    "\n",
    "        numer.terms %<>% append(ln.beta.approx(a,b) + ln.binom.approx(length(outcome),sum(outcome)))\n",
    "    }\n",
    "    mod1.ln.prD = sum(numer.terms)\n",
    "    \n",
    "    outcome = dat %>% select(itemdesc) %>% unlist\n",
    "    a = 1 + sum(outcome)\n",
    "    b = 1 + length(outcome) - sum(outcome)\n",
    "    mod2.ln.prD = ln.beta.approx(a,b) + ln.binom.approx(length(outcome),sum(outcome))\n",
    "    \n",
    "    return(mod1.ln.prD - mod2.ln.prD)\n",
    "}\n",
    "\n",
    "\n",
    "\n",
    "foo = dat %>% select(starts_with('rpt2')) %>% names# %>% sapply(full.bf.comp)\n",
    "#bar = data.frame('reason' = (dat %>% select(starts_with('rpt2')) %>% names),\n",
    "#           'racialization'=(foo %>% as.numeric %>%round(2))) %>% arrange(-racialization)\n",
    "#bar$reason %<>% as.character\n",
    "#for (i in 1:nrow(bar)){\n",
    "#    reason = strsplit(bar$reason[i],'.',fixed=TRUE)[[1]][-1]\n",
    "#    bar$reason[i] = paste(reason,collapse='.')   \n",
    "#}\n",
    "#print(bar)\n",
    "full.bf.comp(foo[4])\n",
    "full.bf.comp(foo[2])"
   ]
  },
  {
   "cell_type": "markdown",
   "metadata": {},
   "source": [
    "#### Do equipment violations end with more bad outcomes for PoC?"
   ]
  },
  {
   "cell_type": "code",
   "execution_count": 24,
   "metadata": {},
   "outputs": [
    {
     "data": {
      "text/html": [
       "<table>\n",
       "<thead><tr><th scope=col>Race</th><th scope=col>Arrested</th><th scope=col>Total Counts</th><th scope=col>Percentage</th></tr></thead>\n",
       "<tbody>\n",
       "\t<tr><td>    </td><td> 1  </td><td>  9 </td><td>0.11</td></tr>\n",
       "\t<tr><td>A   </td><td> 1  </td><td> 31 </td><td>0.03</td></tr>\n",
       "\t<tr><td>B   </td><td> 1  </td><td> 38 </td><td>0.03</td></tr>\n",
       "\t<tr><td>I   </td><td> 0  </td><td>  4 </td><td>0.00</td></tr>\n",
       "\t<tr><td>U   </td><td> 0  </td><td>  4 </td><td>0.00</td></tr>\n",
       "\t<tr><td>W   </td><td>16  </td><td>785 </td><td>0.02</td></tr>\n",
       "\t<tr><td>WH  </td><td> 3  </td><td> 62 </td><td>0.05</td></tr>\n",
       "</tbody>\n",
       "</table>\n"
      ],
      "text/latex": [
       "\\begin{tabular}{r|llll}\n",
       " Race & Arrested & Total Counts & Percentage\\\\\n",
       "\\hline\n",
       "\t      &  1   &   9  & 0.11\\\\\n",
       "\t A    &  1   &  31  & 0.03\\\\\n",
       "\t B    &  1   &  38  & 0.03\\\\\n",
       "\t I    &  0   &   4  & 0.00\\\\\n",
       "\t U    &  0   &   4  & 0.00\\\\\n",
       "\t W    & 16   & 785  & 0.02\\\\\n",
       "\t WH   &  3   &  62  & 0.05\\\\\n",
       "\\end{tabular}\n"
      ],
      "text/markdown": [
       "\n",
       "Race | Arrested | Total Counts | Percentage | \n",
       "|---|---|---|---|---|---|---|\n",
       "|      |  1   |   9  | 0.11 | \n",
       "| A    |  1   |  31  | 0.03 | \n",
       "| B    |  1   |  38  | 0.03 | \n",
       "| I    |  0   |   4  | 0.00 | \n",
       "| U    |  0   |   4  | 0.00 | \n",
       "| W    | 16   | 785  | 0.02 | \n",
       "| WH   |  3   |  62  | 0.05 | \n",
       "\n",
       "\n"
      ],
      "text/plain": [
       "  Race Arrested Total Counts Percentage\n",
       "1       1         9          0.11      \n",
       "2 A     1        31          0.03      \n",
       "3 B     1        38          0.03      \n",
       "4 I     0         4          0.00      \n",
       "5 U     0         4          0.00      \n",
       "6 W    16       785          0.02      \n",
       "7 WH    3        62          0.05      "
      ]
     },
     "metadata": {},
     "output_type": "display_data"
    },
    {
     "data": {
      "text/html": [
       "<table>\n",
       "<thead><tr><th scope=col>Race</th><th scope=col>Searched</th><th scope=col>Total Counts</th><th scope=col>Percentage</th></tr></thead>\n",
       "<tbody>\n",
       "\t<tr><td>    </td><td>  2 </td><td>  9 </td><td>0.22</td></tr>\n",
       "\t<tr><td>A   </td><td>  4 </td><td> 31 </td><td>0.13</td></tr>\n",
       "\t<tr><td>B   </td><td>  4 </td><td> 38 </td><td>0.11</td></tr>\n",
       "\t<tr><td>I   </td><td>  0 </td><td>  4 </td><td>0.00</td></tr>\n",
       "\t<tr><td>U   </td><td>  0 </td><td>  4 </td><td>0.00</td></tr>\n",
       "\t<tr><td>W   </td><td>119 </td><td>785 </td><td>0.15</td></tr>\n",
       "\t<tr><td>WH  </td><td>  7 </td><td> 62 </td><td>0.11</td></tr>\n",
       "</tbody>\n",
       "</table>\n"
      ],
      "text/latex": [
       "\\begin{tabular}{r|llll}\n",
       " Race & Searched & Total Counts & Percentage\\\\\n",
       "\\hline\n",
       "\t      &   2  &   9  & 0.22\\\\\n",
       "\t A    &   4  &  31  & 0.13\\\\\n",
       "\t B    &   4  &  38  & 0.11\\\\\n",
       "\t I    &   0  &   4  & 0.00\\\\\n",
       "\t U    &   0  &   4  & 0.00\\\\\n",
       "\t W    & 119  & 785  & 0.15\\\\\n",
       "\t WH   &   7  &  62  & 0.11\\\\\n",
       "\\end{tabular}\n"
      ],
      "text/markdown": [
       "\n",
       "Race | Searched | Total Counts | Percentage | \n",
       "|---|---|---|---|---|---|---|\n",
       "|      |   2  |   9  | 0.22 | \n",
       "| A    |   4  |  31  | 0.13 | \n",
       "| B    |   4  |  38  | 0.11 | \n",
       "| I    |   0  |   4  | 0.00 | \n",
       "| U    |   0  |   4  | 0.00 | \n",
       "| W    | 119  | 785  | 0.15 | \n",
       "| WH   |   7  |  62  | 0.11 | \n",
       "\n",
       "\n"
      ],
      "text/plain": [
       "  Race Searched Total Counts Percentage\n",
       "1        2        9          0.22      \n",
       "2 A      4       31          0.13      \n",
       "3 B      4       38          0.11      \n",
       "4 I      0        4          0.00      \n",
       "5 U      0        4          0.00      \n",
       "6 W    119      785          0.15      \n",
       "7 WH     7       62          0.11      "
      ]
     },
     "metadata": {},
     "output_type": "display_data"
    }
   ],
   "source": [
    "dat %>% group_by(raceethn) %>% filter(rpt2.equipment.violation==1) %>% \n",
    "summarize(sum(rpt6.arrest),n()) %>% set_colnames(c('c','a','b')) %>%\n",
    "mutate(perc=round(a/b,2)) %>% set_colnames(c('Race','Arrested','Total Counts','Percentage'))\n",
    "\n",
    "dat %>% group_by(raceethn) %>% filter(rpt2.equipment.violation==1) %>% \n",
    "summarize(n()-sum(rpt3..no.search)+sum(rpt3.no.search),n()) %>% set_colnames(c('c','a','b')) %>%\n",
    "mutate(perc=round(a/b,2)) %>% set_colnames(c('Race','Searched','Total Counts','Percentage'))"
   ]
  },
  {
   "cell_type": "code",
   "execution_count": 26,
   "metadata": {},
   "outputs": [
    {
     "name": "stderr",
     "output_type": "stream",
     "text": [
      "Using quantiles as value column: use value.var to override.\n"
     ]
    },
    {
     "data": {},
     "metadata": {},
     "output_type": "display_data"
    },
    {
     "name": "stderr",
     "output_type": "stream",
     "text": [
      "Using quantiles as value column: use value.var to override.\n"
     ]
    },
    {
     "data": {},
     "metadata": {},
     "output_type": "display_data"
    },
    {
     "data": {
      "image/png": "[encoded data removed]",
      "text/plain": [
       "plot without title"
      ]
     },
     "metadata": {},
     "output_type": "display_data"
    },
    {
     "data": {
      "image/png": "[encoded data removed]",
      "text/plain": [
       "plot without title"
      ]
     },
     "metadata": {},
     "output_type": "display_data"
    }
   ],
   "source": [
    "prob.arrested.given.equip.viol = function(x,r){ dat %>%\n",
    "                                           filter(raceethn==r & rpt2.equipment.violation==1) %>%\n",
    "                                           select(rpt6.arrest) %>%\n",
    "                                           as.matrix %>%\n",
    "                                           unif.beta.updated(x,.) %>%\n",
    "                                           return }\n",
    "\n",
    "prob.searched.given.equip.viol = function(x,r){ dat %>%\n",
    "                                               filter(raceethn==r & rpt2.equipment.violation==1) %>%\n",
    "                                               mutate(rpt3.search=not(rpt3.no.search|rpt3..no.search) ) %>%\n",
    "                                               select(rpt3.search) %>%\n",
    "                                               as.matrix %>%\n",
    "                                               unif.beta.updated(x,.) %>%\n",
    "                                               return }\n",
    "\n",
    "\n",
    "plot.posterior(prob.arrested.given.equip.viol)\n",
    "plot.posterior(prob.searched.given.equip.viol)"
   ]
  },
  {
   "cell_type": "markdown",
   "metadata": {},
   "source": [
    "### Basic Bayesian Analysis \n",
    "#### Probability Notation\n",
    "$\\text{Pr}[Y=x]$ is \"the probability that random variable Y takes value x\"\n",
    "$\\text{Pr}[Y]$ is an abbreviation of the above, where $x$ is implied to be variable ie. the probability density function\n",
    "$\\text{Pr}[Y=x|A=b]$ is \"the probabilty that random variable $Y=x$ given that $A=b$\"\n",
    "\n",
    "#### Binomial Random Variable\n",
    "One of the first problems to be addressed using the Bayesian methodology was estimating the \"probability\" parameter of a binomial random variable. Say that a random variable $X$ takes values in $\\{0,1\\}$, with $\\text{Pr}[X=1] = \\pi$. Say that we observe $n$ such draws of $X$, which we will denote $X_1=X_1,...,X_n=x_n$. The probability of this sequence of observations is:\n",
    "$$\n",
    "\\text{Pr}[X_1=x_1,...,X_n=x_n|\\pi=p] = S_n^p (n-s_n)^{1-p}\n",
    "$$\n",
    "Where $s_n = \\sum_i^n x_i$. Furthermore (per the principal of indifference) we can place a uniform prior over $p$. Per Bayes theorem, we can therefore say the following:\n",
    "$$\n",
    "\\text{Pr}[\\pi=p|X_1=x_1,...,X_n=x_n] \\propto s_n^p (n-s_n)^{1-p}\n",
    "$$\n",
    "One can quickly see that this posterior is simply a Beta distribution with parameters $\\alpha=1+s_n$ and $\\beta=1+(n-s_n)$. Per standard results about the Beta distribution, the posterior expected value of $\\pi$ is then $\\frac{1+s_n}{2+n}$ and the posterior variance is $\\frac{(1+s_n)(1+n - s_n)}{(2+n)^2(3+n)}$. These give us some handy formulae to perform inference over $p$, which we'll encode using some helper functions"
   ]
  },
  {
   "cell_type": "code",
   "execution_count": 176,
   "metadata": {},
   "outputs": [
    {
     "name": "stdout",
     "output_type": "stream",
     "text": [
      "[1] 412.9863\n",
      "[1] 5185.094\n",
      "[1] 8997.425\n",
      "[1] 116.9712\n",
      "[1] 28.96828\n",
      "[1] 11.9215\n",
      "[1] 1631.704\n",
      "[1] 2132.912\n",
      "[1] 207.1899\n",
      "[1] 3912.408\n"
     ]
    }
   ],
   "source": [
    "cols = dat %>% select(starts_with('rpt2')) %>% names\n",
    "\n",
    "for (col.n in 1:10){\n",
    "y1 = dat %>% filter(raceethn=='W') %>% select(cols[col.n]) %>% unlist\n",
    "y2 = dat %>% filter(raceethn=='B') %>% select(cols[col.n]) %>% unlist\n",
    "\n",
    "n1 = length(y1)\n",
    "n2 = length(y2)\n",
    "\n",
    "foo = c(sum(y1),sum(y2)) \n",
    "\n",
    "mod1.a1 = 1 + foo[1]\n",
    "mod1.b1 = 1 + n1 - foo[1]\n",
    "mod1.a2 = 1 + foo[2]\n",
    "mod1.b2 = 1 + n2 - foo[2]\n",
    "\n",
    "mod2.a = 1 + foo[1] + foo[2]\n",
    "mod2.b = 1 + n1 + n2 - foo[1] - foo[2]\n",
    "\n",
    "ln.numer = ln.beta.approx(mod1.a1,mod1.b1) + ln.beta.approx(mod1.a2,mod1.b2) + \n",
    "ln.binom.approx(n1,foo[1]) + ln.binom.approx(n2,foo[2])\n",
    "ln.denom = ln.beta.approx(mod2.a,mod2.b) + ln.beta.approx(n1+n2,foo[1]+foo[2])\n",
    "print(ln.numer-ln.denom)\n",
    "}"
   ]
  }
 ],
 "metadata": {
  "kernelspec": {
   "display_name": "R",
   "language": "R",
   "name": "ir"
  },
  "language_info": {
   "codemirror_mode": "r",
   "file_extension": ".r",
   "mimetype": "text/x-r-source",
   "name": "R",
   "pygments_lexer": "r",
   "version": "3.5.3"
  }
 },
 "nbformat": 4,
 "nbformat_minor": 2
}
